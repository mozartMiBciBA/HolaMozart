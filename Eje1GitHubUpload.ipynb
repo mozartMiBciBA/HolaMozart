{
  "nbformat": 4,
  "nbformat_minor": 0,
  "metadata": {
    "colab": {
      "name": "Eje1GitHubUpload.ipynb",
      "provenance": [],
      "authorship_tag": "ABX9TyMvmP14W8NhmY4AMYmi3i1e",
      "include_colab_link": true
    },
    "kernelspec": {
      "name": "python3",
      "display_name": "Python 3"
    }
  },
  "cells": [
    {
      "cell_type": "markdown",
      "metadata": {
        "id": "view-in-github",
        "colab_type": "text"
      },
      "source": [
        "<a href=\"https://colab.research.google.com/github/mozartMiBciBA/HolaMozart/blob/master/Eje1GitHubUpload.ipynb\" target=\"_parent\"><img src=\"https://colab.research.google.com/assets/colab-badge.svg\" alt=\"Open In Colab\"/></a>"
      ]
    },
    {
      "cell_type": "markdown",
      "metadata": {
        "id": "H7awdxgHn9KB"
      },
      "source": [
        "Fuente: https://www.youtube.com/watch?v=svySL_g3XhQ&list=PLgHCrivozIb1JHVHzgvuuFXsTIUvtaQJg"
      ]
    },
    {
      "cell_type": "code",
      "metadata": {
        "colab": {
          "base_uri": "https://localhost:8080/"
        },
        "id": "_ETUd90-fbLK",
        "outputId": "f16de357-42c2-43a0-cfba-9483328aef49"
      },
      "source": [
        "import pandas as pd\n",
        "url=\"https://raw.githubusercontent.com/mozartMiBciBA/HolaMozart/master/CtrC2R1a6Nov19_cond1.csv\"\n",
        "df= pd.read_csv(url)\n",
        "print(df.head(5))"
      ],
      "execution_count": 1,
      "outputs": [
        {
          "output_type": "stream",
          "text": [
            "   12.37  16.162  16.393  Unnamed: 3\n",
            "0  16.49  16.162  16.393         NaN\n",
            "1  12.37  16.162  16.393         NaN\n",
            "2  12.37  16.162  16.393         NaN\n",
            "3  16.49  16.162  16.393         NaN\n",
            "4  12.37  40.404 -29.508         NaN\n"
          ],
          "name": "stdout"
        }
      ]
    },
    {
      "cell_type": "code",
      "metadata": {
        "id": "zY1Ev5cnoF3T"
      },
      "source": [
        ""
      ],
      "execution_count": null,
      "outputs": []
    }
  ]
}